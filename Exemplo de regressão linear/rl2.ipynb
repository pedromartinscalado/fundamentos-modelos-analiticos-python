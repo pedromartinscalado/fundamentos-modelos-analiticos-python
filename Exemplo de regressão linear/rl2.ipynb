{
 "cells": [
  {
   "cell_type": "markdown",
   "metadata": {},
   "source": [
    "# Regressão linear\n",
    "\n",
    "\n",
    "O seu vizinho é um agente imobiliário e quer alguma ajuda para prever os preços das casas para as regiões nos EUA. Seria bom criar um modelo que lhe permita colocar algumas caraterísticas de uma casa e retornar uma estimativa do valor da casa.\n",
    "\n",
    "A Regressão linear pode ser um bom caminho para resolver este problema.\n",
    "\n",
    "O seu vizinho, dá-lhe algumas informações sobre várias casas em regiões dos Estados Unidos (Casas_USA.csv do original USA_Housing.csv).\n",
    "\n",
    "Os dados contêm as seguintes colunas:\n",
    "\n",
    "* 'Avg. Area Income': Média da renda dos residentes de onde a casa está localizada.\n",
    "* 'Avg. Area House Age': Média de idade das casas da mesma cidade.\n",
    "* 'Avg. Area Number of Rooms': Número médio de quartos para casas na mesma cidade.\n",
    "* 'Avg. Area Number of Bedrooms': Número médio de quartos para casas na mesma cidade\n",
    "* 'Area Population': A população da cidade onde a casa está localizada.\n",
    "* 'Price': Preço de venda da casa.\n",
    "* 'Address': Endereço da casa"
   ]
  },
  {
   "cell_type": "markdown",
   "metadata": {},
   "source": [
    "### Importar Bibliotecas"
   ]
  },
  {
   "cell_type": "code",
   "execution_count": null,
   "metadata": {},
   "outputs": [],
   "source": [
    "import pandas as pd\n",
    "import numpy as np\n",
    "import matplotlib.pyplot as plt\n",
    "import seaborn as sns\n",
    "print(pd.__version__)\n",
    "print(np.__version__)\n",
    "print(sns.__version__)"
   ]
  },
  {
   "cell_type": "markdown",
   "metadata": {},
   "source": [
    "### Importar os dados"
   ]
  },
  {
   "cell_type": "code",
   "execution_count": null,
   "metadata": {},
   "outputs": [],
   "source": [
    "casasUSA = pd.read_csv('Casas_USA.csv')"
   ]
  },
  {
   "cell_type": "code",
   "execution_count": null,
   "metadata": {},
   "outputs": [],
   "source": [
    "casasUSA.head()"
   ]
  },
  {
   "cell_type": "code",
   "execution_count": null,
   "metadata": {},
   "outputs": [],
   "source": [
    "casasUSA.info()"
   ]
  },
  {
   "cell_type": "code",
   "execution_count": null,
   "metadata": {},
   "outputs": [],
   "source": [
    "casasUSA.describe()"
   ]
  },
  {
   "cell_type": "code",
   "execution_count": null,
   "metadata": {},
   "outputs": [],
   "source": [
    "casasUSA.columns"
   ]
  },
  {
   "cell_type": "markdown",
   "metadata": {},
   "source": [
    "# Pair Plot\n",
    "\n",
    "Verificar os dados"
   ]
  },
  {
   "cell_type": "code",
   "execution_count": null,
   "metadata": {},
   "outputs": [],
   "source": [
    "sns.pairplot(casasUSA)"
   ]
  },
  {
   "cell_type": "markdown",
   "metadata": {},
   "source": [
    "## Treinar um modelo de regressão linear\n",
    "\n",
    "Vamos agora começar a treinar o modelo de regressão. \n",
    "Em primeiro lugar, precisamos de dividir os dados numa matriz X que contém os recursos a treinar, e uma matriz Y com a variável alvo, neste caso, a coluna Preço. \n",
    "Vamos descartar a coluna \"Address\" porque só tem informações de texto que o modelo de regressão linear não pode utilizar.\n",
    "\n",
    "### Arrays X e Y"
   ]
  },
  {
   "cell_type": "code",
   "execution_count": null,
   "metadata": {},
   "outputs": [],
   "source": [
    "X = casasUSA[['Avg. Area Income', 'Avg. Area House Age', 'Avg. Area Number of Rooms',\n",
    "               'Avg. Area Number of Bedrooms', 'Area Population']]"
   ]
  },
  {
   "cell_type": "code",
   "execution_count": null,
   "metadata": {},
   "outputs": [],
   "source": [
    "Y = casasUSA['Price']"
   ]
  },
  {
   "cell_type": "markdown",
   "metadata": {},
   "source": [
    "## Split de treino\n",
    "\n",
    "Agora, dividem-se os dados num conjunto de treino e num conjunto de testes. \n",
    "Vamos criar o modelo utilizando o conjunto de treino e depois usaremos o conjunto de testes para avaliar o modelo.\n",
    "\n",
    "O método train_test_split fará a divisão dos dados.\n",
    "\n",
    "Recebe por parâmetro o X e o Y.\n",
    "\n",
    "O parâmetro test_size representa a quantidade de dados para teste (neste caso 40% dos dados serão considerados para teste).\n"
   ]
  },
  {
   "cell_type": "code",
   "execution_count": null,
   "metadata": {},
   "outputs": [],
   "source": [
    "from sklearn.model_selection import train_test_split"
   ]
  },
  {
   "cell_type": "code",
   "execution_count": null,
   "metadata": {},
   "outputs": [],
   "source": [
    "X_train, X_test, y_train, y_test = train_test_split(X, Y, test_size=0.2, random_state=101)"
   ]
  },
  {
   "cell_type": "markdown",
   "metadata": {},
   "source": [
    "## Criar e treinar o modelo\n",
    "\n",
    "Utilizar a classe LinearRegression e instanciar o objeto.\n",
    "\n",
    "Utilizar o método fit para encontrar os parâmetros para o modelo linear. Recebe por parâmetro os dados de treino."
   ]
  },
  {
   "cell_type": "code",
   "execution_count": null,
   "metadata": {},
   "outputs": [],
   "source": [
    "from sklearn.linear_model import LinearRegression"
   ]
  },
  {
   "cell_type": "code",
   "execution_count": null,
   "metadata": {},
   "outputs": [],
   "source": [
    "lm = LinearRegression()"
   ]
  },
  {
   "cell_type": "code",
   "execution_count": null,
   "metadata": {},
   "outputs": [],
   "source": [
    "lm.fit(X_train,y_train)"
   ]
  },
  {
   "cell_type": "markdown",
   "metadata": {},
   "source": [
    "## Avaliação do modelo\n",
    "\n",
    "Vamos avaliar o modelo ao verificar os coeficientes."
   ]
  },
  {
   "cell_type": "code",
   "execution_count": null,
   "metadata": {},
   "outputs": [],
   "source": [
    "# Print da interceção\n",
    "print(lm.intercept_)"
   ]
  },
  {
   "cell_type": "code",
   "execution_count": null,
   "metadata": {},
   "outputs": [],
   "source": [
    "#Print dos coeficientes\n",
    "print(lm.coef_)"
   ]
  },
  {
   "cell_type": "code",
   "execution_count": null,
   "metadata": {},
   "outputs": [],
   "source": [
    "coeff_df = pd.DataFrame(lm.coef_,X.columns,columns=['Coefficient'])\n",
    "coeff_df"
   ]
  },
  {
   "cell_type": "markdown",
   "metadata": {},
   "source": [
    "Interpretar os coeficientes:\n",
    "\n",
    "- Mantendo todas as outras variáveis constantes, um aumento de 1 unidade em ** Avg. Area Income ** está associado a um **aumento de \\$ 21,52**.\n",
    "- Mantendo todas as outras variáveis constantes, um aumento de 1 unidade em ** Avg. Area House Age ** está associada a um ** aumento de \\$ 164883.28 **.\n",
    "- Mantendo todas as outras variáveis constantes, um aumento de 1 unidade em ** Avg. Area Number of Bedrooms ** está associada a um ** aumento de \\$ 122368.67 **.\n",
    "- Mantendo todas as outras variáveis constantes, um aumento de 1 unidade em ** Avg. Area Number of Bedrooms ** está associada a um ** aumento de \\$ 2233.80 **.\n",
    "- Mantendo todas as outras variáveis constantes, um aumento de 1 unidade em ** Area Population ** está associado a um ** aumento de \\$ 15.15 **."
   ]
  },
  {
   "cell_type": "markdown",
   "metadata": {},
   "source": [
    "## Predições do modelo"
   ]
  },
  {
   "cell_type": "code",
   "execution_count": null,
   "metadata": {},
   "outputs": [],
   "source": [
    "predictions = lm.predict(X_test)\n",
    "predictions"
   ]
  },
  {
   "cell_type": "markdown",
   "metadata": {},
   "source": [
    "### Scatter Plot com os valores reais das casas e com os valores que o modelo irá prever, dado que este aprendeu com os valores das primeiras casas"
   ]
  },
  {
   "cell_type": "code",
   "execution_count": null,
   "metadata": {},
   "outputs": [],
   "source": [
    "plt.figure(figsize=(12, 6))\n",
    "plt.scatter(y_test,predictions)"
   ]
  },
  {
   "cell_type": "markdown",
   "metadata": {},
   "source": [
    "## Métricas de avaliação de regressão\n",
    "\n",
    "\n",
    "Três métricas de avaliação comuns para problemas de regressão:\n",
    "\n",
    "**Mean absolute error ** (erro absoluto médio) (MAE) é a média do valor absoluto dos erros:\n",
    "\n",
    "$$\\frac 1n\\sum_{i=1}^n|y_i-\\hat{y}_i|$$\n",
    "\n",
    "** Mean Squared Error ** (erro médio quadrático) (MSE) é a média dos erros quadrados:\n",
    "\n",
    "$$\\frac 1n\\sum_{i=1}^n(y_i-\\hat{y}_i)^2$$\n",
    "\n",
    "** Root Mean Square Error ** (raiz do erro quadrático médio) (RMSE) é a raiz quadrada da média dos erros quadrados:\n",
    "\n",
    "$$\\sqrt{\\frac 1n\\sum_{i=1}^n(y_i-\\hat{y}_i)^2}$$\n",
    "\n",
    "Comparando estas métricas:\n",
    "\n",
    "- **MAE** é o mais fácil de entender, porque é o erro médio.\n",
    "- **MSE** é mais popular que o MAE, porque a MSE \"puniria\" erros maiores, o que tende a ser útil no mundo real.\n",
    "- **RMSE** é ainda mais popular do que MSE, porque o RMSE é interpretável nas unidades \"y\".\n",
    "\n",
    "Todas estas são ** funções de perda **, porque queremos minimizá-las."
   ]
  },
  {
   "cell_type": "code",
   "execution_count": null,
   "metadata": {},
   "outputs": [],
   "source": [
    "from sklearn import metrics"
   ]
  },
  {
   "cell_type": "code",
   "execution_count": null,
   "metadata": {},
   "outputs": [],
   "source": [
    "print('MAE:', metrics.mean_absolute_error(y_test, predictions))\n",
    "print('MSE:', metrics.mean_squared_error(y_test, predictions))\n",
    "print('RMSE:', np.sqrt(metrics.mean_squared_error(y_test, predictions)))"
   ]
  },
  {
   "cell_type": "markdown",
   "metadata": {},
   "source": [
    "### Cálculo de valores de vendas para 5 casas"
   ]
  },
  {
   "cell_type": "code",
   "execution_count": null,
   "metadata": {},
   "outputs": [],
   "source": [
    "casas5 = pd.read_csv('Casas_USA cotacao.csv')"
   ]
  },
  {
   "cell_type": "code",
   "execution_count": null,
   "metadata": {},
   "outputs": [],
   "source": [
    "X5 = casas5[['Avg. Area Income', 'Avg. Area House Age', 'Avg. Area Number of Rooms',\n",
    "               'Avg. Area Number of Bedrooms', 'Area Population']]\n",
    "Y5 = casas5['Price']"
   ]
  },
  {
   "cell_type": "code",
   "execution_count": null,
   "metadata": {},
   "outputs": [],
   "source": [
    "X5 = casasUSA[['Avg. Area Income', 'Avg. Area House Age', 'Avg. Area Number of Rooms',\n",
    "               'Avg. Area Number of Bedrooms', 'Area Population']][:5]\n",
    "Y5 = casasUSA['Price'][:5]"
   ]
  },
  {
   "cell_type": "code",
   "execution_count": null,
   "metadata": {},
   "outputs": [],
   "source": [
    "predictions5 = lm.predict(X5)\n",
    "predictions5"
   ]
  },
  {
   "cell_type": "code",
   "execution_count": null,
   "metadata": {},
   "outputs": [],
   "source": [
    "casasUSA['Price'][:5]"
   ]
  }
 ],
 "metadata": {
  "kernelspec": {
   "display_name": "venv.arm",
   "language": "python",
   "name": "python3"
  },
  "language_info": {
   "codemirror_mode": {
    "name": "ipython",
    "version": 3
   },
   "file_extension": ".py",
   "mimetype": "text/x-python",
   "name": "python",
   "nbconvert_exporter": "python",
   "pygments_lexer": "ipython3",
   "version": "3.9.6"
  }
 },
 "nbformat": 4,
 "nbformat_minor": 1
}
