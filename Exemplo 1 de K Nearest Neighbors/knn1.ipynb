{
 "cells": [
  {
   "cell_type": "markdown",
   "id": "2dbce807",
   "metadata": {},
   "source": [
    "# KNN - exemplo 1"
   ]
  },
  {
   "cell_type": "markdown",
   "id": "2f081818",
   "metadata": {},
   "source": [
    "Definir o conjunto de dados\n",
    "\n",
    "Vamos trabalhar com dois tipos de atributos ou colunas de dados: recurso e rótulo. O motivo para estes dois tipos de colunas é a \"natureza supervisionada do algoritmo KNN\".\n",
    "\n",
    "Neste DataSet, temos dois recursos (weather e temp) e um rótulo (play)"
   ]
  },
  {
   "cell_type": "code",
   "execution_count": 1,
   "id": "644a115c",
   "metadata": {},
   "outputs": [],
   "source": [
    "# Assigning features and label variables\n",
    "# First Feature\n",
    "weather=['Sunny','Sunny','Overcast','Rainy','Rainy','Rainy','Overcast','Sunny','Sunny','Rainy','Sunny','Overcast','Overcast','Rainy']\n",
    "# Second Feature\n",
    "temp=['Hot','Hot','Hot','Mild','Cool','Cool','Cool','Mild','Cool','Mild','Mild','Mild','Hot','Mild']\n",
    "\n",
    "# Label or target varible\n",
    "play=['No','No','Yes','Yes','Yes','No','Yes','No','Yes','Yes','Yes','Yes','Yes','No']"
   ]
  },
  {
   "cell_type": "markdown",
   "id": "917b0279",
   "metadata": {},
   "source": [
    "Codificar as colunas de dados\n",
    "\n",
    "Vários algoritmos de machine learning exigem dados de entrada numéricos. Logo, será necessário representar as colunas de dados categóricos em dados numéricos.\n",
    "\n",
    "Para codificar estes dados, temos de mapear cada valor para um número. Ex. Overcast: 0, Rainy: 1 e Sunny: 2.\n",
    "\n",
    "Neste processo, usaremos o Label Encoder do sklearn."
   ]
  },
  {
   "cell_type": "code",
   "execution_count": 2,
   "id": "20c22150",
   "metadata": {},
   "outputs": [
    {
     "name": "stdout",
     "output_type": "stream",
     "text": [
      "[2 2 0 1 1 1 0 2 2 1 2 0 0 1]\n"
     ]
    }
   ],
   "source": [
    "# Import LabelEncoder\n",
    "from sklearn import preprocessing\n",
    "\n",
    "#creating labelEncoder\n",
    "le = preprocessing.LabelEncoder()\n",
    "\n",
    "# Converting string labels into numbers.\n",
    "weather_encoded=le.fit_transform(weather)\n",
    "\n",
    "print(weather_encoded)"
   ]
  },
  {
   "cell_type": "markdown",
   "id": "790a8f60",
   "metadata": {},
   "source": [
    "Da mesma forma, codificamos a temperatura (temp) e o rótulo (play) em dados numéricos."
   ]
  },
  {
   "cell_type": "code",
   "execution_count": 3,
   "id": "d29ed622",
   "metadata": {},
   "outputs": [
    {
     "name": "stdout",
     "output_type": "stream",
     "text": [
      "[1 1 1 2 0 0 0 2 0 2 2 2 1 2]\n",
      "[0 0 1 1 1 0 1 0 1 1 1 1 1 0]\n"
     ]
    }
   ],
   "source": [
    "# converting string labels into numbers\n",
    "temp_encoded=le.fit_transform(temp)\n",
    "\n",
    "label=le.fit_transform(play)\n",
    "\n",
    "print(temp_encoded)\n",
    "print(label)"
   ]
  },
  {
   "cell_type": "markdown",
   "id": "9f3c6024",
   "metadata": {},
   "source": [
    "Combinar Recursos\n",
    "\n",
    "O objetivo passa por combinar as colunas (recursos) num único DataSet, usando a função \"zip\"."
   ]
  },
  {
   "cell_type": "code",
   "execution_count": 4,
   "id": "06888aa6",
   "metadata": {},
   "outputs": [
    {
     "name": "stdout",
     "output_type": "stream",
     "text": [
      "[(2, 1), (2, 1), (0, 1), (1, 2), (1, 0), (1, 0), (0, 0), (2, 2), (2, 0), (1, 2), (2, 2), (0, 2), (0, 1), (1, 2)]\n"
     ]
    }
   ],
   "source": [
    "#combinig weather and temp into single listof tuples\n",
    "features=list(zip(weather_encoded,temp_encoded))\n",
    "print(features)"
   ]
  },
  {
   "cell_type": "markdown",
   "id": "9d5e684d",
   "metadata": {},
   "source": [
    "Gerar o Modelo KNN\n",
    "\n",
    "Primeiro, importamos o módulo KNeighborsClassifier e criamos o objeto classificador KNN, passando o número de vizinhos como argumento na função KNeighborsClassifier().\n",
    "\n",
    "De seguida, ajustamos o modelo no conjunto de treino usando o fit() e executamos a previsão no conjunto de teste usando o Predict()."
   ]
  },
  {
   "cell_type": "code",
   "execution_count": 5,
   "id": "99ac1ab8",
   "metadata": {},
   "outputs": [
    {
     "name": "stdout",
     "output_type": "stream",
     "text": [
      "[1]\n"
     ]
    }
   ],
   "source": [
    "from sklearn.neighbors import KNeighborsClassifier\n",
    "\n",
    "model = KNeighborsClassifier(n_neighbors=3)\n",
    "\n",
    "# Train the model using the training sets\n",
    "model.fit(features,label)\n",
    "\n",
    "#Predict Output\n",
    "predicted= model.predict([[0,2]]) # 0:Overcast, 2:Mild\n",
    "\n",
    "print(predicted)"
   ]
  },
  {
   "cell_type": "markdown",
   "id": "18fe2a1e",
   "metadata": {},
   "source": [
    "Neste exemplo, inserimos [0,2], onde 0 significa Overcast e 2 significa Mild. \n",
    "O modelo prevê [1], o que significa Play = YES."
   ]
  }
 ],
 "metadata": {
  "kernelspec": {
   "display_name": "Python 3.9.6 ('venv': venv)",
   "language": "python",
   "name": "python3"
  },
  "language_info": {
   "codemirror_mode": {
    "name": "ipython",
    "version": 3
   },
   "file_extension": ".py",
   "mimetype": "text/x-python",
   "name": "python",
   "nbconvert_exporter": "python",
   "pygments_lexer": "ipython3",
   "version": "3.9.6"
  },
  "vscode": {
   "interpreter": {
    "hash": "2c60c97b0322902b43c7dda800a5278157f5ba523c8f9e8b9b65ce28e577dc18"
   }
  }
 },
 "nbformat": 4,
 "nbformat_minor": 5
}
