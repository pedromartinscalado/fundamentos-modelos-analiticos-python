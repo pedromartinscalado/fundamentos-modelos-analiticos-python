{
 "cells": [
  {
   "cell_type": "markdown",
   "metadata": {},
   "source": [
    "# Projeto de Regressão Linear\n",
    "\n",
    "Siga as etapas para analisar os dados do cliente."
   ]
  },
  {
   "cell_type": "markdown",
   "metadata": {},
   "source": [
    "## Imports\n",
    "** Importe pandas, numpy, matplotlib e seaborn. **"
   ]
  },
  {
   "cell_type": "code",
   "execution_count": null,
   "metadata": {},
   "outputs": [],
   "source": []
  },
  {
   "cell_type": "markdown",
   "metadata": {},
   "source": [
    "## Obter dados"
   ]
  },
  {
   "cell_type": "code",
   "execution_count": 2,
   "metadata": {},
   "outputs": [],
   "source": [
    "# dados\n",
    "data = pd.DataFrame({\n",
    "    'House': [1, 2, 3, 4, 5, 6, 7, 8, 9, 10, 11, 12, 13, 14, 15, 16, 17, 18, 19, 20],\n",
    "    'SquareFootage': [1000, 1200, 1500, 1800, 2200, 1350, 2000, 1750, 1650, 1900, 1300, 2500, 1400, 2050, 2250, 1600, 1950, 2200, 1800, 1250],\n",
    "    'Price': [100000, 150000, 200000, 250000, 300000, 175000, 225000, 210000, 195000, 240000, 160000, 325000, 170000, 235000, 275000, 190000, 230000, 300000, 250000, 145000]\n",
    "})"
   ]
  },
  {
   "cell_type": "markdown",
   "metadata": {},
   "source": [
    "** Verifique o cabeçalho dos clientes e confira os seus métodos info () e describe(). **"
   ]
  },
  {
   "cell_type": "code",
   "execution_count": null,
   "metadata": {},
   "outputs": [
    {
     "data": {
      "application/vnd.microsoft.datawrangler.viewer.v0+json": {
       "columns": [
        {
         "name": "index",
         "rawType": "int64",
         "type": "integer"
        },
        {
         "name": "House",
         "rawType": "int64",
         "type": "integer"
        },
        {
         "name": "SquareFootage",
         "rawType": "int64",
         "type": "integer"
        },
        {
         "name": "Price",
         "rawType": "int64",
         "type": "integer"
        }
       ],
       "conversionMethod": "pd.DataFrame",
       "ref": "199bc2c3-13cf-4f94-b264-f8ad77d1bdb5",
       "rows": [
        [
         "0",
         "1",
         "1000",
         "100000"
        ],
        [
         "1",
         "2",
         "1200",
         "150000"
        ],
        [
         "2",
         "3",
         "1500",
         "200000"
        ],
        [
         "3",
         "4",
         "1800",
         "250000"
        ],
        [
         "4",
         "5",
         "2200",
         "300000"
        ]
       ],
       "shape": {
        "columns": 3,
        "rows": 5
       }
      },
      "text/html": [
       "<div>\n",
       "<style scoped>\n",
       "    .dataframe tbody tr th:only-of-type {\n",
       "        vertical-align: middle;\n",
       "    }\n",
       "\n",
       "    .dataframe tbody tr th {\n",
       "        vertical-align: top;\n",
       "    }\n",
       "\n",
       "    .dataframe thead th {\n",
       "        text-align: right;\n",
       "    }\n",
       "</style>\n",
       "<table border=\"1\" class=\"dataframe\">\n",
       "  <thead>\n",
       "    <tr style=\"text-align: right;\">\n",
       "      <th></th>\n",
       "      <th>House</th>\n",
       "      <th>SquareFootage</th>\n",
       "      <th>Price</th>\n",
       "    </tr>\n",
       "  </thead>\n",
       "  <tbody>\n",
       "    <tr>\n",
       "      <th>0</th>\n",
       "      <td>1</td>\n",
       "      <td>1000</td>\n",
       "      <td>100000</td>\n",
       "    </tr>\n",
       "    <tr>\n",
       "      <th>1</th>\n",
       "      <td>2</td>\n",
       "      <td>1200</td>\n",
       "      <td>150000</td>\n",
       "    </tr>\n",
       "    <tr>\n",
       "      <th>2</th>\n",
       "      <td>3</td>\n",
       "      <td>1500</td>\n",
       "      <td>200000</td>\n",
       "    </tr>\n",
       "    <tr>\n",
       "      <th>3</th>\n",
       "      <td>4</td>\n",
       "      <td>1800</td>\n",
       "      <td>250000</td>\n",
       "    </tr>\n",
       "    <tr>\n",
       "      <th>4</th>\n",
       "      <td>5</td>\n",
       "      <td>2200</td>\n",
       "      <td>300000</td>\n",
       "    </tr>\n",
       "  </tbody>\n",
       "</table>\n",
       "</div>"
      ],
      "text/plain": [
       "   House  SquareFootage   Price\n",
       "0      1           1000  100000\n",
       "1      2           1200  150000\n",
       "2      3           1500  200000\n",
       "3      4           1800  250000\n",
       "4      5           2200  300000"
      ]
     },
     "execution_count": 3,
     "metadata": {},
     "output_type": "execute_result"
    }
   ],
   "source": []
  },
  {
   "cell_type": "code",
   "execution_count": 4,
   "metadata": {},
   "outputs": [
    {
     "data": {
      "application/vnd.microsoft.datawrangler.viewer.v0+json": {
       "columns": [
        {
         "name": "index",
         "rawType": "object",
         "type": "string"
        },
        {
         "name": "House",
         "rawType": "float64",
         "type": "float"
        },
        {
         "name": "SquareFootage",
         "rawType": "float64",
         "type": "float"
        },
        {
         "name": "Price",
         "rawType": "float64",
         "type": "float"
        }
       ],
       "conversionMethod": "pd.DataFrame",
       "ref": "299e030b-a42e-4700-b644-2c66c73973f1",
       "rows": [
        [
         "count",
         "20.0",
         "20.0",
         "20.0"
        ],
        [
         "mean",
         "10.5",
         "1732.5",
         "216250.0"
        ],
        [
         "std",
         "5.916079783099616",
         "405.64276479629086",
         "58125.88426039325"
        ],
        [
         "min",
         "1.0",
         "1000.0",
         "100000.0"
        ],
        [
         "25%",
         "5.75",
         "1387.5",
         "173750.0"
        ],
        [
         "50%",
         "10.5",
         "1775.0",
         "217500.0"
        ],
        [
         "75%",
         "15.25",
         "2012.5",
         "250000.0"
        ],
        [
         "max",
         "20.0",
         "2500.0",
         "325000.0"
        ]
       ],
       "shape": {
        "columns": 3,
        "rows": 8
       }
      },
      "text/html": [
       "<div>\n",
       "<style scoped>\n",
       "    .dataframe tbody tr th:only-of-type {\n",
       "        vertical-align: middle;\n",
       "    }\n",
       "\n",
       "    .dataframe tbody tr th {\n",
       "        vertical-align: top;\n",
       "    }\n",
       "\n",
       "    .dataframe thead th {\n",
       "        text-align: right;\n",
       "    }\n",
       "</style>\n",
       "<table border=\"1\" class=\"dataframe\">\n",
       "  <thead>\n",
       "    <tr style=\"text-align: right;\">\n",
       "      <th></th>\n",
       "      <th>House</th>\n",
       "      <th>SquareFootage</th>\n",
       "      <th>Price</th>\n",
       "    </tr>\n",
       "  </thead>\n",
       "  <tbody>\n",
       "    <tr>\n",
       "      <th>count</th>\n",
       "      <td>20.00000</td>\n",
       "      <td>20.000000</td>\n",
       "      <td>20.00000</td>\n",
       "    </tr>\n",
       "    <tr>\n",
       "      <th>mean</th>\n",
       "      <td>10.50000</td>\n",
       "      <td>1732.500000</td>\n",
       "      <td>216250.00000</td>\n",
       "    </tr>\n",
       "    <tr>\n",
       "      <th>std</th>\n",
       "      <td>5.91608</td>\n",
       "      <td>405.642765</td>\n",
       "      <td>58125.88426</td>\n",
       "    </tr>\n",
       "    <tr>\n",
       "      <th>min</th>\n",
       "      <td>1.00000</td>\n",
       "      <td>1000.000000</td>\n",
       "      <td>100000.00000</td>\n",
       "    </tr>\n",
       "    <tr>\n",
       "      <th>25%</th>\n",
       "      <td>5.75000</td>\n",
       "      <td>1387.500000</td>\n",
       "      <td>173750.00000</td>\n",
       "    </tr>\n",
       "    <tr>\n",
       "      <th>50%</th>\n",
       "      <td>10.50000</td>\n",
       "      <td>1775.000000</td>\n",
       "      <td>217500.00000</td>\n",
       "    </tr>\n",
       "    <tr>\n",
       "      <th>75%</th>\n",
       "      <td>15.25000</td>\n",
       "      <td>2012.500000</td>\n",
       "      <td>250000.00000</td>\n",
       "    </tr>\n",
       "    <tr>\n",
       "      <th>max</th>\n",
       "      <td>20.00000</td>\n",
       "      <td>2500.000000</td>\n",
       "      <td>325000.00000</td>\n",
       "    </tr>\n",
       "  </tbody>\n",
       "</table>\n",
       "</div>"
      ],
      "text/plain": [
       "          House  SquareFootage         Price\n",
       "count  20.00000      20.000000      20.00000\n",
       "mean   10.50000    1732.500000  216250.00000\n",
       "std     5.91608     405.642765   58125.88426\n",
       "min     1.00000    1000.000000  100000.00000\n",
       "25%     5.75000    1387.500000  173750.00000\n",
       "50%    10.50000    1775.000000  217500.00000\n",
       "75%    15.25000    2012.500000  250000.00000\n",
       "max    20.00000    2500.000000  325000.00000"
      ]
     },
     "execution_count": 4,
     "metadata": {},
     "output_type": "execute_result"
    }
   ],
   "source": [
    "data.describe()"
   ]
  },
  {
   "cell_type": "code",
   "execution_count": null,
   "metadata": {},
   "outputs": [
    {
     "data": {
      "text/plain": [
       "Index(['House', 'SquareFootage', 'Price'], dtype='object')"
      ]
     },
     "execution_count": 5,
     "metadata": {},
     "output_type": "execute_result"
    }
   ],
   "source": []
  },
  {
   "cell_type": "markdown",
   "metadata": {},
   "source": [
    "## Análise de dados exploratória\n",
    "\n",
    "** Use seaborn para criar um pairplot e comparar as relações no conjunto de dados **"
   ]
  },
  {
   "cell_type": "code",
   "execution_count": null,
   "metadata": {},
   "outputs": [],
   "source": []
  },
  {
   "cell_type": "markdown",
   "metadata": {},
   "source": [
    "## Treinar e testar os dados\n",
    "\n",
    "Agora que explorámos um pouco os dados, vamos avançar e dividir os dados em conjuntos de treino e teste.\n",
    "** Defina uma variável X igual a todas as caraterísticas numéricas dos clientes e uma variável Y igual à coluna Valor Anual Gasto (Yearly Amount Spent). **"
   ]
  },
  {
   "cell_type": "code",
   "execution_count": null,
   "metadata": {},
   "outputs": [],
   "source": []
  },
  {
   "cell_type": "code",
   "execution_count": 8,
   "metadata": {},
   "outputs": [],
   "source": [
    "# Split the data into training and testing sets\n",
    "X = data['SquareFootage'].values.reshape(-1, 1)  \n",
    "\n",
    "# Independent variable\n",
    "y = data['Price'].values  # Dependent variable"
   ]
  },
  {
   "cell_type": "markdown",
   "metadata": {},
   "source": [
    "** Use train_test_split da sklearn para dividir os dados em conjuntos de treino e teste. Defina test_size = 0.2 e random_state = 42 **"
   ]
  },
  {
   "cell_type": "code",
   "execution_count": null,
   "metadata": {},
   "outputs": [],
   "source": []
  },
  {
   "cell_type": "markdown",
   "metadata": {},
   "source": [
    "## Treinar o modelo\n",
    "\n",
    "** Importe LinearRegression do sklearn.linear_model **"
   ]
  },
  {
   "cell_type": "code",
   "execution_count": null,
   "metadata": {},
   "outputs": [],
   "source": []
  },
  {
   "cell_type": "markdown",
   "metadata": {},
   "source": [
    "** Crie uma instância de um modelo LinearRegression () chamado model. **"
   ]
  },
  {
   "cell_type": "code",
   "execution_count": null,
   "metadata": {},
   "outputs": [],
   "source": []
  },
  {
   "cell_type": "markdown",
   "metadata": {},
   "source": [
    "** Treine model nos dados de treino. **"
   ]
  },
  {
   "cell_type": "code",
   "execution_count": null,
   "metadata": {},
   "outputs": [],
   "source": []
  },
  {
   "cell_type": "markdown",
   "metadata": {},
   "source": [
    "**Faça um Print dos coeficientes do modelo**"
   ]
  },
  {
   "cell_type": "code",
   "execution_count": null,
   "metadata": {},
   "outputs": [],
   "source": []
  },
  {
   "cell_type": "code",
   "execution_count": null,
   "metadata": {},
   "outputs": [],
   "source": [
    "# Calculate R-squared on the testing set\n",
    "# An R-squared value of 0.95 is considered very good in the context of simple linear regression. \n",
    "# The value is between 0 and 1, and the 0.95 value in our case indicates that 95% of the variation \n",
    "# in the price, can be explained by the independent variable (square footage), which indicates a \n",
    "# strong correlation\n",
    "r_squared = model.score(X_test, y_test)\n",
    "print(f'R-squared: {r_squared:.2f}')"
   ]
  },
  {
   "cell_type": "markdown",
   "metadata": {},
   "source": [
    "## Previsão de dados de teste\n",
    "Agora que nos ajustámos ao modelo, vamos avaliar o seu desempenho ao prever os valores de teste!\n",
    "\n",
    "** Use model.predict() para prever o conjunto X_test dos dados. **"
   ]
  },
  {
   "cell_type": "code",
   "execution_count": null,
   "metadata": {},
   "outputs": [],
   "source": [
    "# Prever valores para...\n",
    "new_sqft = [[1100], [1700], [2000]]\n"
   ]
  },
  {
   "cell_type": "markdown",
   "metadata": {},
   "source": [
    "## Conclusão"
   ]
  },
  {
   "cell_type": "code",
   "execution_count": null,
   "metadata": {},
   "outputs": [],
   "source": [
    "# escreva aqui a sua conclusao"
   ]
  }
 ],
 "metadata": {
  "kernelspec": {
   "display_name": "venv",
   "language": "python",
   "name": "python3"
  },
  "language_info": {
   "codemirror_mode": {
    "name": "ipython",
    "version": 3
   },
   "file_extension": ".py",
   "mimetype": "text/x-python",
   "name": "python",
   "nbconvert_exporter": "python",
   "pygments_lexer": "ipython3",
   "version": "3.9.6"
  }
 },
 "nbformat": 4,
 "nbformat_minor": 1
}
